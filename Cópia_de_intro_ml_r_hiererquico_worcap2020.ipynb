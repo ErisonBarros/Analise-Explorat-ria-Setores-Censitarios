{
  "nbformat": 4,
  "nbformat_minor": 0,
  "metadata": {
    "kernelspec": {
      "name": "ir",
      "display_name": "R",
      "language": "R"
    },
    "language_info": {
      "name": "R",
      "codemirror_mode": "r",
      "pygments_lexer": "r",
      "mimetype": "text/x-r-source",
      "file_extension": ".r",
      "version": "3.6.3"
    },
    "colab": {
      "name": "Cópia de intro-ml-r-hiererquico-worcap2020.ipynb",
      "provenance": [],
      "include_colab_link": true
    }
  },
  "cells": [
    {
      "cell_type": "markdown",
      "metadata": {
        "id": "view-in-github",
        "colab_type": "text"
      },
      "source": [
        "<a href=\"https://colab.research.google.com/github/ErisonBarros/Analise-Exploratria-Setores-Censitarios/blob/master/C%C3%B3pia_de_intro_ml_r_hiererquico_worcap2020.ipynb\" target=\"_parent\"><img src=\"https://colab.research.google.com/assets/colab-badge.svg\" alt=\"Open In Colab\"/></a>"
      ]
    },
    {
      "cell_type": "markdown",
      "metadata": {
        "_uuid": "051d70d956493feee0c6d64651c6a088724dca2a",
        "_execution_state": "idle",
        "trusted": false,
        "id": "1bPcb195MiCm",
        "colab_type": "text"
      },
      "source": [
        "<center>\n",
        "<img src=\"https://suspicious-wescoff-e06084.netlify.app/banner_notebook.png\">\n",
        "    \n",
        "</center>"
      ]
    },
    {
      "cell_type": "markdown",
      "metadata": {
        "id": "WAujs9bhMiCn",
        "colab_type": "text"
      },
      "source": [
        "<br>\n",
        "\n",
        "<h1> Exemplo de aplicação do Método Hierarquico</h1>\n",
        "\n",
        "- **Instrutores**: Adriano, Felipe Carvalho e Felipe Menino\n",
        "\n",
        "- **Realização**: Dia 15/09\n",
        "\n",
        "- **Descrição**: Objetiva-se apresentar aos alunos exemplos de aplicação de algoritmos de agrupamento \n",
        "\n",
        "\n",
        "* **Sumário**:\n",
        "    * [Descrição do conjunto de dados](#description-dataset)\n",
        "    * [Leitura dos dados](#import)\n",
        "    * [Aplicação do **Método Aglomerativo**](#alg)\n",
        "    * [Visualização dos Dendrograma](#dendro)\n",
        "    * [Referências](#ref)\n",
        "\n",
        "\n",
        "\n",
        "* **Links Úteis**:\n",
        "    * [Livro **Introdução ao Machine Learning**](https://dataat.github.io/introducao-ao-machine-learning/)\n",
        "    * [Exemplo de **Classificação** em Python](https://www.kaggle.com/phelpsmemo/intro-ml-python-knn-worcap2020)\n",
        "    * [Exemplo de **Regressão** com **Máquina de Vetores de Suporte** em Python](https://www.kaggle.com/lordadriano/intro-ml-python-svr-worcap2020)\n",
        "    * [Exemplo de **Agrupamento Kmeans** em R](https://www.kaggle.com/oldlipe/intro-ml-r-kmeans-worcap2020)\n",
        "\n"
      ]
    },
    {
      "cell_type": "markdown",
      "metadata": {
        "id": "vsY-CN5uMiCn",
        "colab_type": "text"
      },
      "source": [
        "## Agrupando dados de países <a id=\"description-dataset\"></a>\n",
        "\n",
        "<img src=\"https://images.unsplash.com/photo-1526778548025-fa2f459cd5c1?ixlib=rb-1.2.1&ixid=eyJhcHBfaWQiOjEyMDd9&auto=format&fit=crop&w=1333&q=80\" align=\"right\" width=\"300\"/>\n",
        "\n",
        "Neste *notebook* vamos apresentar um exemplo de aplicação do **Kmeans** usando a linguagem `R`. Para isso, vamos usar os dados sobre os [**Países do mundo**](https://www.kaggle.com/fernandol/countries-of-the-world). \n",
        "\n",
        "O conjunto de dados de [**Países do mundo**](https://www.kaggle.com/fernandol/countries-of-the-world) contém informações sobre o número de habitantes, a área do país, renda per capita, entre outros. No entanto, para fins didáticos, estamos usando o dado tratado e limpo, deste repositório: [Machine Learning aplicado a dados espaciais](https://raw.githubusercontent.com/dataAt/ml-aplicado-dados-espacial/master/src/metodos-nao-supervisionados/dados/world_countries). A pergunta que queremos responder neste agrupamento é: `Será que conseguimos obter grupos de países que possuem características semelhantes?` Tudo indica que sim, né? Mas, vamos ver que essa tarefa não é nada trivial!!"
      ]
    },
    {
      "cell_type": "markdown",
      "metadata": {
        "id": "C6blu3m9MiCo",
        "colab_type": "text"
      },
      "source": [
        "# Mão na massa\n",
        "\n",
        "<br>\n",
        "\n",
        "> Chega de falar e vamos para o código!!!"
      ]
    },
    {
      "cell_type": "markdown",
      "metadata": {
        "id": "qUMAc1ufMiCo",
        "colab_type": "text"
      },
      "source": [
        "### 1. Importação dos pacotes <a id=\"import\"></a>\n"
      ]
    },
    {
      "cell_type": "code",
      "metadata": {
        "trusted": true,
        "id": "VEAUgWW0MiCp",
        "colab_type": "code",
        "colab": {}
      },
      "source": [
        "library(dplyr)      # Conjunto de funções para manipulação de dados\n",
        "library(readr)      # Métodos para a leitura dos dados\n",
        "library(magrittr)   # Operador pipe\n",
        "library(cluster)    # Algoritmos de agrupamento\n",
        "library(FactoMineR) # Pacote para análises multivariadas\n",
        "library(factoextra) # Métodos de visualização para os algoritmos de agrupamentos\n",
        "library(gridExtra)  # Funções de visualização\n",
        "library(psych)      # Funções de visualização"
      ],
      "execution_count": null,
      "outputs": []
    },
    {
      "cell_type": "markdown",
      "metadata": {
        "id": "TNmSYxFCMiCr",
        "colab_type": "text"
      },
      "source": [
        "### 2. Leitura do conjunto de dados"
      ]
    },
    {
      "cell_type": "code",
      "metadata": {
        "trusted": true,
        "id": "_lqG4uDZMiCs",
        "colab_type": "code",
        "colab": {}
      },
      "source": [
        "# Leitura do conjunto de dados\n",
        "world_countries <- \n",
        "readr::read_csv(\"https://raw.githubusercontent.com/dataAt/ml-aplicado-dados-espacial/master/src/metodos-nao-supervisionados/dados/world_countries/world_country_clean.csv\")"
      ],
      "execution_count": null,
      "outputs": []
    },
    {
      "cell_type": "markdown",
      "metadata": {
        "id": "XcvifisrMiCu",
        "colab_type": "text"
      },
      "source": [
        "#### 2.1 Seleção dos atributos <a id=\"description\"></a>\n"
      ]
    },
    {
      "cell_type": "code",
      "metadata": {
        "trusted": true,
        "id": "Gw2jYgDaMiCu",
        "colab_type": "code",
        "colab": {}
      },
      "source": [
        "# Seleção dos atributos\n",
        "world_countries_data <- world_countries %>% \n",
        "    dplyr::select(phones_per_1000, infant_mortality_per_1000_births, gdp_per_capita, birthrate, deathrate, climate, literacy_percent) %>%\n",
        "    scale()\n",
        "\n",
        "# Alteração no nome das linhas\n",
        "row.names(world_countries_data) <- world_countries$country \n",
        "\n",
        "# Visualização das cinco primeiras linhas\n",
        "head(world_countries_data, 5)"
      ],
      "execution_count": null,
      "outputs": []
    },
    {
      "cell_type": "markdown",
      "metadata": {
        "id": "fSvo4lraMiCw",
        "colab_type": "text"
      },
      "source": [
        "#### Descrição dos atributos\n",
        "\n",
        "O conjunto de dados World Countries utilizando nesta seção, possui os seguintes atributos:\n",
        "\n",
        "- **phones_per_1000:** Telefones a 1000 pessoas\n",
        "- **infant_mortality_per_1000_births:** Taxa de mortalidade infantil a cada 1000 nascidos\n",
        "- **gdp_per_capita:** GDP per capita\n",
        "- **birthrate:** Taxa de natalidade\n",
        "- **deathrate:** Taxa de mortalidae\n",
        "- **climate:** Clima\n",
        "- **literacy_percent:** Porcentagem de alfabetização"
      ]
    },
    {
      "cell_type": "markdown",
      "metadata": {
        "id": "8dOWmWrXMiCx",
        "colab_type": "text"
      },
      "source": [
        "#### 2.2 Visualização dos dados"
      ]
    },
    {
      "cell_type": "code",
      "metadata": {
        "trusted": true,
        "id": "ZpuurIGHMiCx",
        "colab_type": "code",
        "colab": {}
      },
      "source": [
        "options(repr.plot.width=25, repr.plot.height=15)\n",
        "\n",
        "# Criação de um gráfico de correlações\n",
        "pairs.panels(world_countries_data, \n",
        "             method = \"pearson\", # Método de correlação\n",
        "             hist.col = \"#00AFBB\",\n",
        "             density = TRUE,     # Exibe a densidade\n",
        "             ellipses = TRUE     # Mostra as elipses de correlações\n",
        "             )"
      ],
      "execution_count": null,
      "outputs": []
    },
    {
      "cell_type": "markdown",
      "metadata": {
        "id": "rL9zUiIDMiCz",
        "colab_type": "text"
      },
      "source": [
        "> É possível observar que muitas das correlações são negativas, a melhor correlação é dada pela taxa de telefone a cada 1000 habitantes pelo GDP per capita. Vamos ver que tipos de relaçãoes podemos encontrar aplicando o método aglomerativo."
      ]
    },
    {
      "cell_type": "markdown",
      "metadata": {
        "id": "oB2mKaHsMiC0",
        "colab_type": "text"
      },
      "source": [
        "### 3. Aplicação do Método Aglomerativo <a id=\"alg\"></a>\n"
      ]
    },
    {
      "cell_type": "markdown",
      "metadata": {
        "id": "N-l96gKiMiC0",
        "colab_type": "text"
      },
      "source": [
        "#### 3.1 Criação da Matriz de distância"
      ]
    },
    {
      "cell_type": "code",
      "metadata": {
        "trusted": true,
        "id": "Gx6zbtmTMiC1",
        "colab_type": "code",
        "colab": {}
      },
      "source": [
        "# Matriz de distância com base na distância euclidiana\n",
        "world_countries_dist <- dist(world_countries_data, method = \"euclidian\")"
      ],
      "execution_count": null,
      "outputs": []
    },
    {
      "cell_type": "markdown",
      "metadata": {
        "id": "Y5WmJJ77MiC3",
        "colab_type": "text"
      },
      "source": [
        "#### 3.2 Criação do agrupamento"
      ]
    },
    {
      "cell_type": "code",
      "metadata": {
        "trusted": true,
        "id": "ScQXy4j1MiC3",
        "colab_type": "code",
        "colab": {}
      },
      "source": [
        "# Criação do agrupamento aglomerativo pelo método de ligação completa com base na distância eucliana\n",
        "hcut_complete <- hcut(world_countries_data, k = 1, stand = TRUE, hc_method = \"complete\", hc_func = \"hclust\", hc_metric = \"euclidean\")"
      ],
      "execution_count": null,
      "outputs": []
    },
    {
      "cell_type": "code",
      "metadata": {
        "trusted": true,
        "id": "JzzLrPcvMiC5",
        "colab_type": "code",
        "colab": {}
      },
      "source": [
        "# Criação do agrupamento aglomerativo pelo método de ligação simples com base na distância eucliana\n",
        "hcut_single <- hcut(world_countries_data, k = 1, stand = TRUE, hc_method = \"single\", hc_func = \"hclust\", hc_metric = \"euclidean\")"
      ],
      "execution_count": null,
      "outputs": []
    },
    {
      "cell_type": "code",
      "metadata": {
        "trusted": true,
        "id": "Iht8nyUHMiC7",
        "colab_type": "code",
        "colab": {}
      },
      "source": [
        "# Criação do agrupamento aglomerativo pelo método de ligação pela média com base na distância eucliana\n",
        "hcut_avg <- hcut(world_countries_data, k = 1, stand = TRUE, hc_method = \"average\", hc_func = \"hclust\", hc_metric = \"euclidean\")"
      ],
      "execution_count": null,
      "outputs": []
    },
    {
      "cell_type": "markdown",
      "metadata": {
        "id": "K4PFxOQrMiC9",
        "colab_type": "text"
      },
      "source": [
        "#### 3.3 Visualização dos dendrogramas"
      ]
    },
    {
      "cell_type": "code",
      "metadata": {
        "trusted": true,
        "id": "CxAEpmW1MiC-",
        "colab_type": "code",
        "colab": {}
      },
      "source": [
        "# Visuaização do agrupamento por ligação completa\n",
        "viz_completa <- factoextra::fviz_dend(hcut_complete, color_labels_by_k = FALSE, rect = FALSE, cex = 0.8, horiz = FALSE, rect_fill = FALSE, palette = \"npg\") + ggtitle(\"Agrupamento por ligação completa\")"
      ],
      "execution_count": null,
      "outputs": []
    },
    {
      "cell_type": "code",
      "metadata": {
        "trusted": true,
        "id": "MW2uIMZPMiDA",
        "colab_type": "code",
        "colab": {}
      },
      "source": [
        "# Visuaização do agrupamento por ligação simples\n",
        "viz_single <- factoextra::fviz_dend(hcut_single, color_labels_by_k = FALSE, rect = FALSE, cex = 0.8, horiz = FALSE, palette = \"npg\") + ggtitle(\"Agrupamento por ligação simples\")"
      ],
      "execution_count": null,
      "outputs": []
    },
    {
      "cell_type": "code",
      "metadata": {
        "trusted": true,
        "id": "7gQ1-QWdMiDE",
        "colab_type": "code",
        "colab": {}
      },
      "source": [
        "# Visuaização do agrupamento por ligação média\n",
        "viz_media <- factoextra::fviz_dend(hcut_avg, color_labels_by_k = FALSE, rect = FALSE, cex = 0.8, horiz = FALSE, palette = \"npg\", ) + ggtitle(\"Agrupamento por ligação pela média\") "
      ],
      "execution_count": null,
      "outputs": []
    },
    {
      "cell_type": "code",
      "metadata": {
        "trusted": true,
        "id": "oP4slVwOMiDG",
        "colab_type": "code",
        "colab": {}
      },
      "source": [
        "options(repr.plot.width=28, repr.plot.height=22)\n",
        "\n",
        "# Visualização dos agrupamentos\n",
        "grid.arrange(viz_completa, viz_single, viz_media, nrow = 3, ncol = 1)"
      ],
      "execution_count": null,
      "outputs": []
    },
    {
      "cell_type": "markdown",
      "metadata": {
        "id": "8pntFbhcMiDI",
        "colab_type": "text"
      },
      "source": [
        "> Diversas informações podem ser extraídos com base no dendrograma. Por exemplo, o país Suazilândia aparece somente em um grupo na ligação simples, ou em níveis bem próximos da raiz."
      ]
    },
    {
      "cell_type": "markdown",
      "metadata": {
        "id": "Ff4rwFlmMiDI",
        "colab_type": "text"
      },
      "source": [
        "### 4. Cortes nos dendrogramas <a id=\"dendro\"></a>\n"
      ]
    },
    {
      "cell_type": "markdown",
      "metadata": {
        "id": "_HHGWFHwMiDJ",
        "colab_type": "text"
      },
      "source": [
        "#### 4.1 Criação dos agrupamentos"
      ]
    },
    {
      "cell_type": "markdown",
      "metadata": {
        "id": "GU396Zc2MiDJ",
        "colab_type": "text"
      },
      "source": [
        "> Desta vez vamos usar método de ligação por média"
      ]
    },
    {
      "cell_type": "code",
      "metadata": {
        "trusted": true,
        "id": "qwcyAeepMiDK",
        "colab_type": "code",
        "colab": {}
      },
      "source": [
        "# Criação do agrupamento aglomerativo pelo método de ligação pela média com base na distância eucliana\n",
        "hcut_avg_3 <- hcut(world_countries_data, k = 3, stand = TRUE, hc_method = \"average\", hc_func = \"hclust\", hc_metric = \"euclidean\")"
      ],
      "execution_count": null,
      "outputs": []
    },
    {
      "cell_type": "code",
      "metadata": {
        "trusted": true,
        "id": "vqD0tCicMiDL",
        "colab_type": "code",
        "colab": {}
      },
      "source": [
        "# Criação do agrupamento aglomerativo pelo método de ligação pela média com base na distância eucliana\n",
        "hcut_avg_5 <- hcut(world_countries_data, k = 5, stand = TRUE, hc_method = \"average\", hc_func = \"hclust\", hc_metric = \"euclidean\")"
      ],
      "execution_count": null,
      "outputs": []
    },
    {
      "cell_type": "code",
      "metadata": {
        "trusted": true,
        "id": "plQUCCU-MiDN",
        "colab_type": "code",
        "colab": {}
      },
      "source": [
        "# Criação do agrupamento aglomerativo pelo método de ligação pela média com base na distância eucliana\n",
        "hcut_avg_7 <- hcut(world_countries_data, k = 7, stand = TRUE, hc_method = \"average\", hc_func = \"hclust\", hc_metric = \"euclidean\")"
      ],
      "execution_count": null,
      "outputs": []
    },
    {
      "cell_type": "markdown",
      "metadata": {
        "id": "vLL6h7EsMiDP",
        "colab_type": "text"
      },
      "source": [
        "#### 4.2 Visualização dos dendrogramas"
      ]
    },
    {
      "cell_type": "code",
      "metadata": {
        "trusted": true,
        "id": "mBV7Ot-bMiDP",
        "colab_type": "code",
        "colab": {}
      },
      "source": [
        "# Visualização do dendrograma com 3 cortes\n",
        "viz_media_3 <- factoextra::fviz_dend(hcut_avg_3, rect = TRUE,  k_colors = c(\"#00AFBB\",\"#2E9FDF\", \"#E7B800\", \"#FC4E07\", \"#000000\"), \n",
        "                                     cex = 0.8, horiz = FALSE, palette = \"npg\") + ggtitle(\"Agrupamento por ligação pela média - (K = 3)\")"
      ],
      "execution_count": null,
      "outputs": []
    },
    {
      "cell_type": "code",
      "metadata": {
        "trusted": true,
        "id": "Sd_B9WebMiDR",
        "colab_type": "code",
        "colab": {}
      },
      "source": [
        "# Visualização do dendrograma com 5 cortes\n",
        "viz_media_5 <- factoextra::fviz_dend(hcut_avg_5, rect = TRUE, k_colors = c(\"#00AFBB\",\"#2E9FDF\", \"#E7B800\", \"#FC4E07\", \"#000000\"), \n",
        "                                     cex = 0.8, horiz = FALSE, palette = \"npg\") + ggtitle(\"Agrupamento por ligação pela média - (K = 5)\") \n"
      ],
      "execution_count": null,
      "outputs": []
    },
    {
      "cell_type": "code",
      "metadata": {
        "trusted": true,
        "id": "w0xiAXHTMiDS",
        "colab_type": "code",
        "colab": {}
      },
      "source": [
        "# Visualização do dendrograma com 7 cortes\n",
        "viz_media_7 <- factoextra::fviz_dend(hcut_avg_7, rect = TRUE, k_colors = c(\"#00AFBB\",\"#2E9FDF\", \"#E7B800\", \"#FC4E07\", \"#000000\", \"#487eb0\", \"#353b48\"), \n",
        "                                     cex = 0.8, horiz = FALSE, palette = \"npg\", ) + ggtitle(\"Agrupamento por ligação pela média - (K = 7)\") "
      ],
      "execution_count": null,
      "outputs": []
    },
    {
      "cell_type": "code",
      "metadata": {
        "trusted": true,
        "id": "UXPtuqhRMiDU",
        "colab_type": "code",
        "colab": {}
      },
      "source": [
        "options(repr.plot.width=28, repr.plot.height=22)\n",
        "\n",
        "# Visualização dos agrupamentos\n",
        "grid.arrange(viz_media_3, viz_media_5, viz_media_7, nrow = 3, ncol = 1)"
      ],
      "execution_count": null,
      "outputs": []
    },
    {
      "cell_type": "markdown",
      "metadata": {
        "id": "e9TW7gdeMiDW",
        "colab_type": "text"
      },
      "source": [
        "> É interessante observar que em grupos existem diversos países do mesmo continente. Por exemplo, o agrupamento com **K = 7**, em que diversos países do continente Africano pertencem ao mesmo grupo."
      ]
    },
    {
      "cell_type": "markdown",
      "metadata": {
        "id": "0TGPBrkLMiDW",
        "colab_type": "text"
      },
      "source": [
        "### Exercício\n",
        "\n",
        "Compare os agrupamentos Kmeans e hierárquico e aponte as prinpais diferenças."
      ]
    },
    {
      "cell_type": "markdown",
      "metadata": {
        "id": "Jk25ddkDMiDW",
        "colab_type": "text"
      },
      "source": [
        "### Referências <a id=\"ref\"></a>"
      ]
    },
    {
      "cell_type": "markdown",
      "metadata": {
        "id": "gK51oF9uMiDX",
        "colab_type": "text"
      },
      "source": [
        "- https://www.machinegurning.com/rstats/keras/\n",
        "- http://www.sthda.com/english/wiki/factoextra-r-package-easy-multivariate-data-analyses-and-elegant-visualization\n",
        "- http://www.milbo.org/rpart-plot/prp.pdf\n",
        "- https://uc-r.github.io/kmeans_clustering\n",
        "- https://rpkgs.datanovia.com/factoextra/reference/hkmeans.html"
      ]
    }
  ]
}